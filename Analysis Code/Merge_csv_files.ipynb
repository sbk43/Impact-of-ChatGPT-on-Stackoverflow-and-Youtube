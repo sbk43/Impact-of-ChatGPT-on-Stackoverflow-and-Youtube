{
  "nbformat": 4,
  "nbformat_minor": 0,
  "metadata": {
    "colab": {
      "provenance": []
    },
    "kernelspec": {
      "name": "python3",
      "display_name": "Python 3"
    },
    "language_info": {
      "name": "python"
    }
  },
  "cells": [
    {
      "cell_type": "markdown",
      "source": [
        "This python notebook is developed for merging the multiple csv files of same data structure and columns and data type into a single csv file for analysis (if required).\n",
        "\n",
        "**Prerequisite: ** Name the all different small files with same start name (base filename), for an example (stackoverflow 1.csv, stackoverflow 2.csv and so on) this helps to read the different files easily using the regex and create a merge file name with stackoverflow (base filename)."
      ],
      "metadata": {
        "id": "F_Tn_H2_cYtW"
      }
    },
    {
      "cell_type": "markdown",
      "source": [
        "Import required dependencies"
      ],
      "metadata": {
        "id": "Xed9ENzvcnzu"
      }
    },
    {
      "cell_type": "code",
      "execution_count": 41,
      "metadata": {
        "id": "KNAOIU7eA0G6"
      },
      "outputs": [],
      "source": [
        "import pandas as pd\n",
        "import os"
      ]
    },
    {
      "cell_type": "markdown",
      "source": [
        "Add the base filename with which all the small files start with (and also the name of the final merged file)"
      ],
      "metadata": {
        "id": "_OGwVohRcu3X"
      }
    },
    {
      "cell_type": "code",
      "source": [
        "basefilename = 'stackoverflow'"
      ],
      "metadata": {
        "id": "uIUwEGQ9c2Uk"
      },
      "execution_count": 42,
      "outputs": []
    },
    {
      "cell_type": "markdown",
      "source": [
        "Define the function to merge the files"
      ],
      "metadata": {
        "id": "npbI720Ie4hK"
      }
    },
    {
      "cell_type": "code",
      "source": [
        "def merge_csv_files(base_filename=basefilename):\n",
        "    # List all files in the current directory\n",
        "    files = os.listdir('.')\n",
        "    # Filter files that start with the base filename and end with .csv\n",
        "    csv_files = [f for f in files if f.startswith(base_filename) and f.endswith('.csv')]\n",
        "    # Sort files to maintain the original order\n",
        "    csv_files.sort()\n",
        "\n",
        "    # Read each file and append to a list of DataFrames\n",
        "    df_list = [pd.read_csv(file) for file in csv_files]\n",
        "    # Concatenate all DataFrames into one\n",
        "    full_df = pd.concat(df_list, ignore_index=True)\n",
        "\n",
        "    # Optionally, save the merged DataFrame to a new CSV file\n",
        "    full_df.to_csv(base_filename + '.csv', index=False)\n",
        "\n",
        "    return full_df"
      ],
      "metadata": {
        "id": "_coOD4IdC17m"
      },
      "execution_count": 40,
      "outputs": []
    },
    {
      "cell_type": "markdown",
      "source": [
        "Run the function and this will create a merged file with basefilename which is ready for analysis either in R or Python."
      ],
      "metadata": {
        "id": "wL276EmVfFDP"
      }
    },
    {
      "cell_type": "code",
      "source": [
        "# Use the function to merge files and load the data\n",
        "df = merge_csv_files()\n",
        "print(\"Merging complete. Data is ready for analysis.\")"
      ],
      "metadata": {
        "colab": {
          "base_uri": "https://localhost:8080/"
        },
        "id": "SXlN7tvEITkP",
        "outputId": "42757980-d420-401c-abc1-13650bb76728"
      },
      "execution_count": 35,
      "outputs": [
        {
          "output_type": "stream",
          "name": "stdout",
          "text": [
            "Merging complete. Data is ready for analysis.\n"
          ]
        }
      ]
    }
  ]
}