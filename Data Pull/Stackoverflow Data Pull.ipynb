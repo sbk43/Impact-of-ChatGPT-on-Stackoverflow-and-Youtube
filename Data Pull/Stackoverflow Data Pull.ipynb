{
  "cells": [
    {
      "cell_type": "markdown",
      "source": [
        "This python notebook is developed to pull the data from stackvoerflow (refer [documentation](https://api.stackexchange.com/docs/)). The end-point used is [search](https://api.stackexchange.com/docs/search)."
      ],
      "metadata": {
        "id": "UfB56qVc7VQs"
      }
    },
    {
      "cell_type": "markdown",
      "source": [
        "Import required dependencies"
      ],
      "metadata": {
        "id": "N5ZAGN_v7Smq"
      }
    },
    {
      "cell_type": "code",
      "source": [
        "import pandas as pd\n",
        "import requests"
      ],
      "metadata": {
        "id": "qilsQLmJwcH6"
      },
      "execution_count": null,
      "outputs": []
    },
    {
      "cell_type": "markdown",
      "source": [
        "Create a empty list for storing/appending the data."
      ],
      "metadata": {
        "id": "XP8LQ7t483a-"
      }
    },
    {
      "cell_type": "code",
      "source": [
        "results21 =[]"
      ],
      "metadata": {
        "id": "MlAknsA8wx36"
      },
      "execution_count": null,
      "outputs": []
    },
    {
      "cell_type": "markdown",
      "source": [
        "Search end point"
      ],
      "metadata": {
        "id": "zWHypI_Y8_H9"
      }
    },
    {
      "cell_type": "code",
      "source": [
        "api_url = \"https://api.stackexchange.com/2.3/search/\""
      ],
      "metadata": {
        "id": "bbcgATUc9DXZ"
      },
      "execution_count": null,
      "outputs": []
    },
    {
      "cell_type": "markdown",
      "source": [
        "Loop to pull the questions data for tags (python, java) in the search api."
      ],
      "metadata": {
        "id": "2bS43Ivx9FMo"
      }
    },
    {
      "cell_type": "code",
      "source": [
        "for element in range(0,10000):\n",
        "\n",
        "  qs = {\n",
        "        \"page\": element,\n",
        "        \"pagesize\": 100,\n",
        "        \"order\": \"desc\",\n",
        "        \"tagged\":\"python;python-3.x;python-2.7;machine-learning;java\",\n",
        "        \"fromdate\":\"1635724800\",\n",
        "        \"todate\":\"1711929600\",\n",
        "        \"sort\": \"creation\",\n",
        "        \"site\": \"stackoverflow\",\n",
        "        \"key\": \"xxxx\"\n",
        "    }\n",
        "#Nov 1 2021 to Apr 2 2024\n",
        "\n",
        "  rsp = requests.get(api_url, params = qs)\n",
        "\n",
        "  data = rsp.json()\n",
        "  print(element,\"success\",len(data['items']))\n",
        "\n",
        "  results21.append(data['items'])"
      ],
      "metadata": {
        "id": "gE1Ki5H2dk-g"
      },
      "execution_count": null,
      "outputs": []
    },
    {
      "cell_type": "markdown",
      "source": [
        "Data is flattened to rows and columns"
      ],
      "metadata": {
        "id": "br8XWgUe9V4R"
      }
    },
    {
      "cell_type": "code",
      "execution_count": null,
      "metadata": {
        "id": "TPvAC0BA_5d5"
      },
      "outputs": [],
      "source": [
        "flattened_list = [item for sublist in results21 for item in sublist]"
      ]
    },
    {
      "cell_type": "markdown",
      "source": [
        "Data is stored in dataframe"
      ],
      "metadata": {
        "id": "z4gWf5Od9wX_"
      }
    },
    {
      "cell_type": "code",
      "execution_count": null,
      "metadata": {
        "id": "ur1k0GUTHekw"
      },
      "outputs": [],
      "source": [
        "df = pd.DataFrame(flattened_list)"
      ]
    },
    {
      "cell_type": "markdown",
      "source": [
        "Data is saved to stackoverflow csv file"
      ],
      "metadata": {
        "id": "bbFIeX8b9yjV"
      }
    },
    {
      "cell_type": "code",
      "execution_count": null,
      "metadata": {
        "id": "FgwJtXaNHVwV"
      },
      "outputs": [],
      "source": [
        "df.to_csv('stackoverflow.csv', index=False)"
      ]
    }
  ],
  "metadata": {
    "colab": {
      "provenance": []
    },
    "kernelspec": {
      "display_name": "Python 3",
      "name": "python3"
    },
    "language_info": {
      "name": "python"
    }
  },
  "nbformat": 4,
  "nbformat_minor": 0
}
